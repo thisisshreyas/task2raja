{
 "cells": [
  {
   "cell_type": "code",
   "execution_count": 135,
   "metadata": {},
   "outputs": [
    {
     "name": "stdout",
     "output_type": "stream",
     "text": [
      "png file found:\t amazing-pictures-3.png\n",
      "Total pngfiles found:\t 1\n",
      "jpg file found:\t 03b7ad99d82117a0b7ba59c1215.jpg\n",
      "Total  jpegfiles found:\t 1\n",
      "jpg file found:\t 25-18_meow.jpg\n",
      "Total  jpegfiles found:\t 2\n",
      "jpg file found:\t amazing-life-sea-dolphins-ocean-beautiful-spiritual1.jpg\n",
      "Total  jpegfiles found:\t 3\n",
      "jpg file found:\t amazing_photos_of_animals_caught_in_the_act_640_01.jpg\n",
      "Total  jpegfiles found:\t 4\n",
      "jpg file found:\t best-animal-wallpaper-20.jpg\n",
      "Total  jpegfiles found:\t 5\n",
      "jpg file found:\t dv1085023.jpg\n",
      "Total  jpegfiles found:\t 6\n",
      "jpg file found:\t emerald_tree_boa_amazon_equador-normal.jpg\n",
      "Total  jpegfiles found:\t 7\n",
      "jpg file found:\t Pretty cat Wallpaper 1920x1080 Hd.jpg\n",
      "Total  jpegfiles found:\t 8\n",
      "jpg file found:\t tiger.jpg\n",
      "Total  jpegfiles found:\t 9\n",
      "jpg file found:\t two.jpg\n",
      "Total  jpegfiles found:\t 10\n",
      "Total files found:\t 11\n"
     ]
    }
   ],
   "source": [
    "import os #os module imported here\n",
    "location = r'\\\\SHREYAS\\Users\\Shreyas I\\Anaconda3\\tenpics' # get present working directory location here\n",
    "counter = 0 #keep a count of all files found\n",
    "otherfiles = [] #list to keep any other file that do not match the criteria\n",
    "jpgfiles=[]\n",
    "pngfiles=[]\n",
    "txtfiles=[]\n",
    "counterjpg=0\n",
    "counterpng=0\n",
    "countertxt=0\n",
    "for file in os.listdir(location):\n",
    "    if file.endswith(\".png\"):\n",
    "        print (\"png file found:\\t\", file)\n",
    "        pngfiles.append(str(file))\n",
    "        counter = counter+1\n",
    "        counterpng=counterpng+1\n",
    "        print (\"Total pngfiles found:\\t\", counterpng)         \n",
    "         \n",
    "for file in os.listdir(location):            \n",
    "    if file.endswith(\".jpg\"):\n",
    "        print (\"jpg file found:\\t\", file)\n",
    "        jpgfiles.append(str(file))\n",
    "        counter = counter+1\n",
    "        counterjpg=counterjpg+1\n",
    "        print (\"Total  jpegfiles found:\\t\", counterjpg)\n",
    "for file in os.listdir(location):            \n",
    "    if file.endswith(\".txt\"):\n",
    "        print (\"jpg file found:\\t\", file)\n",
    "        jpgfiles.append(str(file))\n",
    "        counter = counter+1\n",
    "        countertxt=countertxt+1\n",
    "        print (\"Total  txtfiles found:\\t\", countertxt)\n",
    "        \n",
    "print (\"Total files found:\\t\", counter)\n",
    "\n",
    "\n",
    "\n",
    "\n",
    "        \n",
    "    \n",
    "        \n",
    "    \n",
    "\n",
    "\n",
    "\n",
    "          \n",
    "            \n",
    "            \n",
    "        \n",
    "\n",
    "\n",
    "\n"
   ]
  },
  {
   "cell_type": "code",
   "execution_count": 108,
   "metadata": {},
   "outputs": [
    {
     "ename": "IndentationError",
     "evalue": "unindent does not match any outer indentation level (<tokenize>, line 15)",
     "output_type": "error",
     "traceback": [
      "\u001b[1;36m  File \u001b[1;32m\"<tokenize>\"\u001b[1;36m, line \u001b[1;32m15\u001b[0m\n\u001b[1;33m    except Exception as e:\u001b[0m\n\u001b[1;37m    ^\u001b[0m\n\u001b[1;31mIndentationError\u001b[0m\u001b[1;31m:\u001b[0m unindent does not match any outer indentation level\n"
     ]
    }
   ],
   "source": [
    "\n",
    "       print \"Total files found:\\t\", counterelif file.startswith(\"hello\") and file.endswith(\".csv\"): #because some files may start with hello and also be a csv file\n",
    "        print \"csv file found:\\t\", file\n",
    "            csvfiles.append(str(file))\n",
    "            counter = counter+1\n",
    "\n",
    "        elif file.startswith(\"hello\"):\n",
    "            print \"hello files found: \\t\", file\n",
    "            filebeginwithhello.append(file)\n",
    "            counter = counter+1\n",
    "\n",
    "        else:\n",
    "            otherfiles.append(file)\n",
    "            counter = counter+1\n",
    "    except Exception as e:\n",
    "        raise e\n",
    "        print \"No files found here!\"\n",
    "\n",
    "print \"Total files found:\\t\", counter \n",
    "        \n",
    "\n"
   ]
  }
 ],
 "metadata": {
  "kernelspec": {
   "display_name": "Python 3",
   "language": "python",
   "name": "python3"
  },
  "language_info": {
   "codemirror_mode": {
    "name": "ipython",
    "version": 3
   },
   "file_extension": ".py",
   "mimetype": "text/x-python",
   "name": "python",
   "nbconvert_exporter": "python",
   "pygments_lexer": "ipython3",
   "version": "3.7.1"
  }
 },
 "nbformat": 4,
 "nbformat_minor": 2
}
