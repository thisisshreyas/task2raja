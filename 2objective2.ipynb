{
 "cells": [
  {
   "cell_type": "code",
   "execution_count": 11,
   "metadata": {},
   "outputs": [
    {
     "name": "stdout",
     "output_type": "stream",
     "text": [
      "[]\n"
     ]
    },
    {
     "ename": "IndexError",
     "evalue": "list index out of range",
     "output_type": "error",
     "traceback": [
      "\u001b[1;31m---------------------------------------------------------------------------\u001b[0m",
      "\u001b[1;31mIndexError\u001b[0m                                Traceback (most recent call last)",
      "\u001b[1;32m<ipython-input-11-a11f306f7943>\u001b[0m in \u001b[0;36m<module>\u001b[1;34m\u001b[0m\n\u001b[0;32m     19\u001b[0m     \u001b[0mmyList\u001b[0m\u001b[1;33m.\u001b[0m\u001b[0minsert\u001b[0m\u001b[1;33m(\u001b[0m\u001b[1;36m0\u001b[0m\u001b[1;33m,\u001b[0m\u001b[0mfile\u001b[0m\u001b[1;33m)\u001b[0m\u001b[1;33m\u001b[0m\u001b[1;33m\u001b[0m\u001b[0m\n\u001b[0;32m     20\u001b[0m \u001b[0mprint\u001b[0m\u001b[1;33m(\u001b[0m\u001b[0mmyList\u001b[0m\u001b[1;33m)\u001b[0m\u001b[1;33m\u001b[0m\u001b[1;33m\u001b[0m\u001b[0m\n\u001b[1;32m---> 21\u001b[1;33m \u001b[0ma\u001b[0m\u001b[1;33m=\u001b[0m\u001b[0mmyList\u001b[0m\u001b[1;33m[\u001b[0m\u001b[1;36m0\u001b[0m\u001b[1;33m]\u001b[0m\u001b[1;33m\u001b[0m\u001b[1;33m\u001b[0m\u001b[0m\n\u001b[0m\u001b[0;32m     22\u001b[0m \u001b[0mA\u001b[0m\u001b[1;33m=\u001b[0m\u001b[0mio\u001b[0m\u001b[1;33m.\u001b[0m\u001b[0mimread\u001b[0m\u001b[1;33m(\u001b[0m\u001b[0mlocation\u001b[0m\u001b[1;33m+\u001b[0m\u001b[0ma\u001b[0m\u001b[1;33m)\u001b[0m\u001b[1;33m\u001b[0m\u001b[1;33m\u001b[0m\u001b[0m\n\u001b[0;32m     23\u001b[0m \u001b[0mio\u001b[0m\u001b[1;33m.\u001b[0m\u001b[0mimshow\u001b[0m\u001b[1;33m(\u001b[0m\u001b[0mA\u001b[0m\u001b[1;33m)\u001b[0m\u001b[1;33m\u001b[0m\u001b[1;33m\u001b[0m\u001b[0m\n",
      "\u001b[1;31mIndexError\u001b[0m: list index out of range"
     ]
    }
   ],
   "source": [
    "import shutil\n",
    "import numpy as np\n",
    "import skimage\n",
    "from skimage import io\n",
    "from skimage.color import rgb2gray\n",
    "from skimage import data\n",
    "import numpy as np\n",
    "import matplotlib.pyplot as plt\n",
    "import os #os module imported here\n",
    "location = r'\\\\SHREYAS\\\\Users\\\\Shreyas I\\\\Anaconda3\\\\tenpics\\\\'\n",
    "counter = 0 #keep a count of all files found\n",
    "otherfiles =[] #list to keep any other file that do not match the criteria\n",
    "jpgfiles=[]\n",
    "counterjpg=0\n",
    "myList=[]\n",
    "mylist=0\n",
    "\n",
    "for file in os.listdir(location):\n",
    "    myList.insert(0,file)\n",
    "print(myList)\n",
    "a=myList[0]\n",
    "A=io.imread(location+a)\n",
    "io.imshow(A)\n",
    "print(A.size)\n",
    "print(A.shape)\n",
    "x,y,z=np.shape(A)\n",
    "x_index = int(input(\"Enter your value: \"))\n",
    "y_index = int(input(\"Enter your value: \"))\n",
    "if x_index<x and y_index<y:\n",
    "    \n",
    "    for i in range(1,x):\n",
    "        for j in range(1,y):\n",
    "            \n",
    "            if i>50 and i<x_index:\n",
    "                if j>50 and j<y_index:\n",
    "                   \n",
    "                    A[i][j][0]=255\n",
    "                    A[i][j][1]=0\n",
    "                    A[i][j][2]=0\n",
    "else:\n",
    "    print(\" string index out of range\")\n",
    "io.imshow(A)\n",
    "io.imsave('ONE.png',A)\n",
    "src =location+a\n",
    "dst =\"C:\\\\Users\\\\Shreyas I\\\\Desktop\\\\task2\"\n",
    "shutil.move(src,dst)"
   ]
  }
 ],
 "metadata": {
  "kernelspec": {
   "display_name": "Python 3",
   "language": "python",
   "name": "python3"
  },
  "language_info": {
   "codemirror_mode": {
    "name": "ipython",
    "version": 3
   },
   "file_extension": ".py",
   "mimetype": "text/x-python",
   "name": "python",
   "nbconvert_exporter": "python",
   "pygments_lexer": "ipython3",
   "version": "3.7.1"
  }
 },
 "nbformat": 4,
 "nbformat_minor": 2
}
